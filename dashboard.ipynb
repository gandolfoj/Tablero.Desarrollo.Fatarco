{
  "nbformat": 4,
  "nbformat_minor": 0,
  "metadata": {
    "colab": {
      "provenance": []
    },
    "kernelspec": {
      "name": "python3",
      "display_name": "Python 3"
    },
    "language_info": {
      "name": "python"
    }
  },
  "cells": [
    {
      "cell_type": "code",
      "execution_count": null,
      "metadata": {
        "id": "TwZpUUr6h7zW"
      },
      "outputs": [],
      "source": [
        "import pandas as pd, numpy as np, matplotlib.pyplot as plt\n",
        "import ipywidgets as widgets\n",
        "from IPython.display import display\n",
        "\n",
        "# Datos relativos dentro del repo\n",
        "PATH = 'data/resultado_anon.csv'\n",
        "\n",
        "# Carga y tipificación\n",
        "df = pd.read_csv(PATH, dtype=str)\n",
        "df['Fecha_dt'] = pd.to_datetime(df['Fecha'], errors='coerce', dayfirst=True)\n",
        "df['Año'] = df['Fecha_dt'].dt.year\n",
        "\n",
        "num_cols = ['Total','1°','2°','Pos.','10+X','X','10s','9s','6','5','11','10']\n",
        "for c in num_cols:\n",
        "    if c in df.columns:\n",
        "        df[c] = pd.to_numeric(df[c], errors='coerce')\n",
        "\n",
        "for c in ['Disciplina','Categoria','Club','Arquero']:\n",
        "    if c in df.columns:\n",
        "        df[c] = df[c].fillna('Sin dato')\n",
        "\n",
        "print(f'Filas: {len(df):,}  Años: {int(df[\"Año\"].min())}–{int(df[\"Año\"].max())}')\n"
      ]
    },
    {
      "cell_type": "code",
      "source": [
        "disc_opts = ['Todos'] + sorted(df['Disciplina'].dropna().unique().tolist())\n",
        "disc_dd  = widgets.Dropdown(options=disc_opts, value='Todos', description='Disciplina')\n",
        "anio_rng = widgets.IntRangeSlider(\n",
        "    value=[int(df['Año'].min()), int(df['Año'].max())],\n",
        "    min=int(df['Año'].min()), max=int(df['Año'].max()),\n",
        "    step=1, description='Año', continuous_update=False\n",
        ")\n",
        "display(widgets.HBox([disc_dd, anio_rng]))\n"
      ],
      "metadata": {
        "id": "C2ZZ8uLgh9bA"
      },
      "execution_count": null,
      "outputs": []
    },
    {
      "cell_type": "code",
      "source": [
        "def filtered():\n",
        "    f = df[(df['Año']>=anio_rng.value[0]) & (df['Año']<=anio_rng.value[1])].copy()\n",
        "    if disc_dd.value!='Todos':\n",
        "        f = f[f['Disciplina']==disc_dd.value]\n",
        "    return f\n",
        "\n",
        "def render(*_):\n",
        "    f = filtered()\n",
        "    if f.empty:\n",
        "        print('Sin datos para el filtro'); return\n",
        "\n",
        "    # 1) Promedio anual de Total\n",
        "    g1 = f.groupby('Año')['Total'].mean().reset_index()\n",
        "    plt.figure(figsize=(9,3.8))\n",
        "    plt.plot(g1['Año'], g1['Total'], marker='o')\n",
        "    plt.title('Promedio anual de puntaje')\n",
        "    plt.xlabel('Año'); plt.ylabel('Promedio Total'); plt.grid(True); plt.tight_layout(); plt.show()\n",
        "\n",
        "    # 2) Tasa de podio anual\n",
        "    if 'Pos.' in f.columns:\n",
        "        f['Podio'] = f['Pos.'].isin([1,2,3]).astype(int)\n",
        "        g2 = f.groupby('Año').agg(Podios=('Podio','sum'), Participaciones=('Podio','count')).reset_index()\n",
        "        g2['TasaPodio_%'] = (g2['Podios']/g2['Participaciones']*100).round(2)\n",
        "        plt.figure(figsize=(9,3.8))\n",
        "        plt.bar(g2['Año'], g2['TasaPodio_%'])\n",
        "        plt.title('Tasa de podios por año')\n",
        "        plt.xlabel('Año'); plt.ylabel('Podios (%)'); plt.tight_layout(); plt.show()\n",
        "\n",
        "# vincular widgets a render\n",
        "widgets.interactive_output(render, {'_': disc_dd.observe(lambda c: render(), 'value')});\n",
        "widgets.interactive_output(render, {'_': anio_rng.observe(lambda c: render(), 'value')});\n",
        "render()\n"
      ],
      "metadata": {
        "id": "1SYkRkw4h_f3"
      },
      "execution_count": null,
      "outputs": []
    }
  ]
}